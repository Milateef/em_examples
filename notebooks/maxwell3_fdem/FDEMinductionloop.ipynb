{
 "cells": [
  {
   "cell_type": "markdown",
   "metadata": {},
   "source": [
    "# FDEM Induction Loop Widget\n",
    "\n",
    "This widget allows the used to predict the induced electrical current within a circular loop."
   ]
  },
  {
   "cell_type": "code",
   "execution_count": null,
   "metadata": {
    "collapsed": true
   },
   "outputs": [],
   "source": [
    "# IMPORT PACKAGES\n",
    "import InductionExFD as IND\n",
    "from ipywidgets import interact, FloatSlider, FloatText"
   ]
  },
  {
   "cell_type": "markdown",
   "metadata": {},
   "source": [
    "## Parameter Descriptions\n",
    "\n",
    "The adjustable parameters for the widget are summarized below:\n",
    "\n",
    "* $I$: Transmitter current [A]\n",
    "* $a_{Tx}$: Transmitter loop radius\n",
    "* $a_{Rx}$: Receiver loop radius\n",
    "* $x_{Rx}$: Receiver x position\n",
    "* $z_{Rx}$: Receiver z position\n",
    "* $\\phi$: Receiver normal vector relative to vertical [degrees]\n",
    "* $R$: Resistance of receiver loop [$\\Omega$]\n",
    "* $L$: Inductance of receiver loop [H]\n",
    "* $f$: Specific frequency [Hz]"
   ]
  },
  {
   "cell_type": "code",
   "execution_count": null,
   "metadata": {
    "collapsed": false
   },
   "outputs": [],
   "source": [
    "# RUN WIDGET\n",
    "interact(IND.fcn_Widget,I=FloatText(min=0.01,max=100.,value=1.,description = \"$I$\"),\\\n",
    "                        a1=FloatText(min=1.,max=20.,value=10.,description = \"$a_{Tx}$\"),\\\n",
    "                        a2=FloatText(min=1.,max=20.,value=5.,description = \"$a_{Rx}$\"),\\\n",
    "                        xRx=FloatText(min=-15.,max=15.,value=0.,description = \"$x_{Rx}$\"),\\\n",
    "                        zRx=FloatText(min=-15.,max=15.,value=-5.,description = \"$z_{Rx}$\"),\\\n",
    "                        azm=FloatText(min=-90.,max=90.,value=0.,description = \"$\\phi$\"),\\\n",
    "                        R=FloatText(min=1e0,max=1e6,value=1e2,description = \"$R$\"),\\\n",
    "                        L=FloatText(min=1e-7,max=1e-2,value=1e-4,description = \"$L$\"),\\\n",
    "                        f=FloatText(min=1e0,max=1e8,value=1e5,description = \"$f$\"))\n",
    "    \n",
    "    "
   ]
  },
  {
   "cell_type": "code",
   "execution_count": null,
   "metadata": {
    "collapsed": false
   },
   "outputs": [],
   "source": []
  },
  {
   "cell_type": "code",
   "execution_count": null,
   "metadata": {
    "collapsed": true
   },
   "outputs": [],
   "source": []
  }
 ],
 "metadata": {
  "anaconda-cloud": {},
  "kernelspec": {
   "display_name": "Python [default]",
   "language": "python",
   "name": "python2"
  },
  "language_info": {
   "codemirror_mode": {
    "name": "ipython",
    "version": 2
   },
   "file_extension": ".py",
   "mimetype": "text/x-python",
   "name": "python",
   "nbconvert_exporter": "python",
   "pygments_lexer": "ipython2",
   "version": "2.7.12"
  },
  "widgets": {
   "state": {
    "2c1a5bdac2234a9abe96684c900760bb": {
     "views": [
      {
       "cell_index": 3
      }
     ]
    }
   },
   "version": "1.2.0"
  }
 },
 "nbformat": 4,
 "nbformat_minor": 1
}
