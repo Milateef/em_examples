{
 "cells": [
  {
   "cell_type": "code",
   "execution_count": 17,
   "metadata": {
    "collapsed": false
   },
   "outputs": [],
   "source": [
    "import numpy as np\n",
    "import copy\n",
    "from IPython.display import HTML\n",
    "import matplotlib.pyplot as plt\n",
    "import dill\n",
    "\n",
    "import SimPEG as simpeg\n",
    "from SimPEG.EM import NSEM\n",
    "\n",
    "import sys\n",
    "sys.path.append(\"../../../../pymatsolver/\")\n",
    "from pymatsolver import PardisoSolver\n",
    "sys.path.append(\"../../../../../Dropbox/PhD_UBC/telluricpy/\")\n",
    "import telluricpy\n",
    "\n",
    "# Set some matplotlib settings\n",
    "%matplotlib inline\n"
   ]
  },
  {
   "cell_type": "code",
   "execution_count": 18,
   "metadata": {
    "collapsed": true
   },
   "outputs": [],
   "source": [
    "# Define the area of interest\n",
    "bw, be = -250., 250\n",
    "bs, bn = -250., 250.\n",
    "bb, bt = -500.,0."
   ]
  },
  {
   "cell_type": "code",
   "execution_count": 20,
   "metadata": {
    "collapsed": false
   },
   "outputs": [
    {
     "name": "stdout",
     "output_type": "stream",
     "text": [
      "57800\n",
      "177956\n"
     ]
    }
   ],
   "source": [
    "#Cell size\n",
    "# Decreased the z-dir size\n",
    "csx, csy, csz = 10.,10.,5.\n",
    "# Number of core cells in each directiPon s\n",
    "ncx, ncy, ncz = 20,20,32.\n",
    "# Number of padding cells to add in each direction\n",
    "npad = 7\n",
    "nzpad = 9\n",
    "growrate = 2.\n",
    "# Vectors of cell lengthts in each direction\n",
    "hx = [(csx,npad, -growrate),(csx,ncx),(csx,npad,growrate)]\n",
    "hy = [(csy,npad, -growrate),(csy,ncy),(csy,npad, growrate)]\n",
    "hz = [(csz,nzpad,-growrate),(csz,ncz),(csz,nzpad, growrate)]\n",
    "#hz = [(csz,npad, -1.5),(csz,ncz),(csz,npad,1.5)]\n",
    "\n",
    "# nrCcore = [6, 5, 4, 2, 2, 2, 2]\n",
    "airPad = simpeg.Utils.meshTensor([(csz,nzpad,growrate)])\n",
    "# vCore = np.concatenate([ np.ones(i)*s for i, s in zip(nrCcore,(simpeg.Utils.meshTensor([(csz,1),(csz,5,1.3)])))])[::-1]\n",
    "# botPad = simpeg.Utils.meshTensor([(vCore[0],2,-1.5)])\n",
    "# hz = np.concatenate((botPad,vCore,airPad))\n",
    "\n",
    "# Create mesh\n",
    "mesh = simpeg.Mesh.TensorMesh([hx, hy, hz],x0=\"CCN\")\n",
    "# Map mesh coordinates from local to UTM coordiantes\n",
    "mesh.x0[2] = mesh.x0[2]+np.sum(airPad) + 10\n",
    "#mesh.x0[2] = mesh.x0[2]- csz/2.#-np.max(mesh.vectorCCz[npad:-npad]) \n",
    "\n",
    "# mesh.plotSlice(np.ones(mesh.nC)*np.nan, grid=True)\n",
    "# mesh.plotSlice(np.ones(mesh.nC)*np.nan, grid=True, normal=\"Y\")\n",
    "# mesh.plotGrid()\n",
    "# plt.gca().set_aspect('equal')\n",
    "# plt.show()\n",
    "\n",
    "print mesh.nC\n",
    "print mesh.nF"
   ]
  },
  {
   "cell_type": "code",
   "execution_count": 9,
   "metadata": {
    "collapsed": false
   },
   "outputs": [],
   "source": [
    "sig_air = 1e-8\n",
    "sphere_depth = 100.\n",
    "sig_back = 1e-2\n",
    "sig_sphere = 1e-1\n",
    "sphere_r = 50.\n",
    "sigma = sig_back*np.ones(mesh.nC)\n",
    "\n",
    "#air cells\n",
    "air = mesh.gridCC[:,2]>0.\n",
    "sigma[air]=sig_air\n",
    "\n",
    "#Define the sphere limit\n",
    "inds = (np.sqrt((mesh.gridCC[:,2]+sphere_depth)**2.+(mesh.gridCC[:,1])**2.+(mesh.gridCC[:,0])**2.))< sphere_r\n",
    "sigma[inds] = sig_sphere\n",
    "\n",
    "# Get a 1D background model\n",
    "bgsigma = mesh.r(sigma,'CC','CC','M')[0,0,:]"
   ]
  },
  {
   "cell_type": "code",
   "execution_count": 10,
   "metadata": {
    "collapsed": false
   },
   "outputs": [],
   "source": [
    "a = mesh.plotSlice(sigma, grid=True, normal=\"X\")\n",
    "# plt.gca().set_xlim([-250.,250])\n",
    "# plt.gca().set_ylim([-500.,10.])\n",
    "plt.colorbar(a[0])\n",
    "plt.show()"
   ]
  },
  {
   "cell_type": "code",
   "execution_count": 11,
   "metadata": {
    "collapsed": false
   },
   "outputs": [
    {
     "name": "stdout",
     "output_type": "stream",
     "text": [
      "[ 100000.           56234.13251903   31622.77660168   17782.79410039\n",
      "   10000.            5623.4132519     3162.27766017    1778.27941004\n",
      "    1000.             562.34132519     316.22776602     177.827941       100.        ]\n"
     ]
    }
   ],
   "source": [
    "freqs = np.logspace(5,2,13)\n",
    "print freqs"
   ]
  },
  {
   "cell_type": "code",
   "execution_count": 12,
   "metadata": {
    "collapsed": false
   },
   "outputs": [
    {
     "name": "stdout",
     "output_type": "stream",
     "text": [
      "[  15.8113883    21.08482517   28.11706626   37.49471047   50.\n",
      "   66.67607161   88.9139705   118.56868528  158.11388301  210.84825171\n",
      "  281.1706626   374.94710467  500.        ]\n"
     ]
    }
   ],
   "source": [
    "print 500./np.sqrt(freqs*sig_back)"
   ]
  },
  {
   "cell_type": "code",
   "execution_count": 13,
   "metadata": {
    "collapsed": false
   },
   "outputs": [],
   "source": [
    "# Make the rxLocations file\n",
    "x,y,z = np.meshgrid(np.arange(-100,101,5),np.arange(-100,101,5),[0.])\n",
    "locs = np.hstack((x.reshape(-1,1),y.reshape(-1,1),z.reshape(-1,1)))\n"
   ]
  },
  {
   "cell_type": "code",
   "execution_count": 14,
   "metadata": {
    "collapsed": false
   },
   "outputs": [
    {
     "data": {
      "text/plain": [
       "array([[-100., -100.,    0.],\n",
       "       [ -95., -100.,    0.],\n",
       "       [ -90., -100.,    0.],\n",
       "       ..., \n",
       "       [  90.,  100.,    0.],\n",
       "       [  95.,  100.,    0.],\n",
       "       [ 100.,  100.,    0.]])"
      ]
     },
     "execution_count": 14,
     "metadata": {},
     "output_type": "execute_result"
    }
   ],
   "source": [
    "locs"
   ]
  },
  {
   "cell_type": "code",
   "execution_count": 15,
   "metadata": {
    "collapsed": false,
    "scrolled": true
   },
   "outputs": [
    {
     "data": {
      "text/plain": [
       "<matplotlib.collections.PathCollection at 0x7f01fb676510>"
      ]
     },
     "execution_count": 15,
     "metadata": {},
     "output_type": "execute_result"
    }
   ],
   "source": [
    "plt.scatter(locs[:,0],locs[:,1])"
   ]
  },
  {
   "cell_type": "code",
   "execution_count": 21,
   "metadata": {
    "collapsed": false
   },
   "outputs": [
    {
     "name": "stdout",
     "output_type": "stream",
     "text": [
      "Starting calculating field solution at 2016-12-28 14:20:42\n",
      "Starting work for 1.000e+02\n",
      "Ran for 40.971276 seconds\n",
      "Starting work for 1.778e+02\n",
      "Ran for 45.220299 seconds\n",
      "Starting work for 3.162e+02\n",
      "Ran for 41.752942 seconds\n",
      "Starting work for 5.623e+02\n",
      "Ran for 46.598336 seconds\n",
      "Starting work for 1.000e+03\n",
      "Ran for 44.172761 seconds\n",
      "Starting work for 1.778e+03\n",
      "Ran for 45.369560 seconds\n",
      "Starting work for 3.162e+03\n",
      "Ran for 42.044157 seconds\n",
      "Starting work for 5.623e+03\n",
      "Ran for 45.834496 seconds\n",
      "Starting work for 1.000e+04\n",
      "Ran for 44.435902 seconds\n",
      "Starting work for 1.778e+04\n",
      "Ran for 35.185672 seconds\n",
      "Starting work for 3.162e+04\n",
      "Ran for 39.637238 seconds\n",
      "Starting work for 5.623e+04\n",
      "Ran for 45.327918 seconds\n",
      "Starting work for 1.000e+05\n",
      "Ran for 46.460244 seconds\n",
      "Ended calculation field at 2016-12-28 14:30:06\n",
      "Ran for 563.789989\n",
      "Starting projecting fields to data at 2016-12-28 14:30:06\n",
      "Ended projection of fields at 2016-12-28 14:30:25\n",
      "Ran for 19.527049\n"
     ]
    }
   ],
   "source": [
    "rxList = []        \n",
    "for rx_orientation in ['xx', 'xy', 'yx', 'yy']:\n",
    "    rxList.append(NSEM.Rx.Point_impedance3D(locs,rx_orientation, 'real'))\n",
    "    rxList.append(NSEM.Rx.Point_impedance3D(locs,rx_orientation, 'imag'))            \n",
    "for rx_orientation in ['zx','zy']:\n",
    "    rxList.append(NSEM.Rx.Point_tipper3D(locs,rx_orientation, 'real'))\n",
    "    rxList.append(NSEM.Rx.Point_tipper3D(locs,rx_orientation, 'imag'))\n",
    "# Source list\n",
    "srcList =[]\n",
    "for freq in freqs:\n",
    "    srcList.append(NSEM.Src.Planewave_xy_1Dprimary(rxList,freq))\n",
    "# Survey MT\n",
    "survey = NSEM.Survey(srcList)\n",
    "# Background 1D model\n",
    "sigma1d = mesh.r(sigma,'CC','CC','M')[0,0,:]\n",
    "## Setup the problem object\n",
    "problem = NSEM.Problem3D_ePrimSec(mesh, sigmaMap=simpeg.Maps.IdentityMap(), sigmaPrimary = sigma1d)\n",
    "problem.verbose = True\n",
    "\n",
    "problem.Solver = PardisoSolver\n",
    "problem.pair(survey)\n",
    "\n",
    "import time\n",
    "## Calculate the fields\n",
    "stTime = time.time()\n",
    "print 'Starting calculating field solution at ' + time.strftime(\"%Y-%m-%d %H:%M:%S\", time.localtime())\n",
    "sys.stdout.flush()\n",
    "FmtSer = problem.fields(sigma)\n",
    "print 'Ended calculation field at ' + time.strftime(\"%Y-%m-%d %H:%M:%S\", time.localtime())\n",
    "print 'Ran for {:f}'.format(time.time()-stTime)\n",
    "\n",
    "## Project data\n",
    "stTime = time.time()\n",
    "print 'Starting projecting fields to data at ' + time.strftime(\"%Y-%m-%d %H:%M:%S\", time.localtime())\n",
    "sys.stdout.flush()\n",
    "mtData = NSEM.Data(survey,survey.eval(FmtSer))\n",
    "print 'Ended projection of fields at ' + time.strftime(\"%Y-%m-%d %H:%M:%S\", time.localtime())\n",
    "print 'Ran for {:f}'.format(time.time()-stTime)"
   ]
  },
  {
   "cell_type": "code",
   "execution_count": 22,
   "metadata": {
    "collapsed": false
   },
   "outputs": [],
   "source": [
    "# Pickle the data\n",
    "mtData.survey.unpair()\n",
    "\n",
    "dill.dump(mtData,open('sphere_mtData_1e2_1e1.pklb','wb'))"
   ]
  },
  {
   "cell_type": "code",
   "execution_count": 44,
   "metadata": {
    "collapsed": false
   },
   "outputs": [],
   "source": [
    "mtData = dill.load(open('sphere_mtData_1e2_1e1.pklb','rb'))"
   ]
  },
  {
   "cell_type": "code",
   "execution_count": 23,
   "metadata": {
    "collapsed": false
   },
   "outputs": [
    {
     "data": {
      "text/plain": [
       "<matplotlib.axes._subplots.AxesSubplot at 0x7f01dd2f4210>"
      ]
     },
     "execution_count": 23,
     "metadata": {},
     "output_type": "execute_result"
    },
    {
     "data": {
      "image/png": "[encoded data removed]",
      "text/plain": [
       "<matplotlib.figure.Figure at 0x7f01fb549450>"
      ]
     },
     "metadata": {},
     "output_type": "display_data"
    }
   ],
   "source": [
    "mtData.plot_app_res(np.array([0.,0.]))"
   ]
  },
  {
   "cell_type": "code",
   "execution_count": 25,
   "metadata": {
    "collapsed": false
   },
   "outputs": [
    {
     "data": {
      "text/plain": [
       "<matplotlib.axes._subplots.AxesSubplot at 0x7f025df3b850>"
      ]
     },
     "execution_count": 25,
     "metadata": {},
     "output_type": "execute_result"
    },
    {
     "data": {
      "image/png": "[encoded data removed]",
      "text/plain": [
       "<matplotlib.figure.Figure at 0x7f025df28ad0>"
      ]
     },
     "metadata": {},
     "output_type": "display_data"
    }
   ],
   "source": [
    "mtData.plot_app_res(np.array([-95.,0.]))"
   ]
  },
  {
   "cell_type": "code",
   "execution_count": 26,
   "metadata": {
    "collapsed": false
   },
   "outputs": [
    {
     "ename": "NameError",
     "evalue": "name 'colors' is not defined",
     "output_type": "error",
     "traceback": [
      "\u001b[0;31m---------------------------------------------------------------------------\u001b[0m",
      "\u001b[0;31mNameError\u001b[0m                                 Traceback (most recent call last)",
      "\u001b[0;32m<ipython-input-26-a13074cd8372>\u001b[0m in \u001b[0;36m<module>\u001b[0;34m()\u001b[0m\n\u001b[0;32m----> 1\u001b[0;31m \u001b[0mcont_args\u001b[0m \u001b[0;34m=\u001b[0m \u001b[0;34m{\u001b[0m\u001b[0;34m'levels'\u001b[0m\u001b[0;34m:\u001b[0m\u001b[0mnp\u001b[0m\u001b[0;34m.\u001b[0m\u001b[0mlogspace\u001b[0m\u001b[0;34m(\u001b[0m\u001b[0;36m1.5\u001b[0m\u001b[0;34m,\u001b[0m\u001b[0;36m2.2\u001b[0m\u001b[0;34m,\u001b[0m\u001b[0;36m8\u001b[0m\u001b[0;34m*\u001b[0m\u001b[0;36m4\u001b[0m\u001b[0;34m+\u001b[0m\u001b[0;36m1\u001b[0m\u001b[0;34m)\u001b[0m\u001b[0;34m,\u001b[0m\u001b[0;34m'norm'\u001b[0m\u001b[0;34m:\u001b[0m\u001b[0mcolors\u001b[0m\u001b[0;34m.\u001b[0m\u001b[0mLogNorm\u001b[0m\u001b[0;34m(\u001b[0m\u001b[0;34m)\u001b[0m\u001b[0;34m}\u001b[0m\u001b[0;34m\u001b[0m\u001b[0m\n\u001b[0m\u001b[1;32m      2\u001b[0m \u001b[0mfig\u001b[0m\u001b[0;34m,\u001b[0m \u001b[0max\u001b[0m\u001b[0;34m,\u001b[0m \u001b[0mcont\u001b[0m \u001b[0;34m=\u001b[0m \u001b[0mmtData\u001b[0m\u001b[0;34m.\u001b[0m\u001b[0msection_plot\u001b[0m\u001b[0;34m(\u001b[0m\u001b[0;34m{\u001b[0m\u001b[0;34m'y'\u001b[0m\u001b[0;34m:\u001b[0m\u001b[0;36m0.\u001b[0m\u001b[0;34m}\u001b[0m\u001b[0;34m,\u001b[0m\u001b[0;34m'Z'\u001b[0m\u001b[0;34m,\u001b[0m\u001b[0;34m'yx'\u001b[0m\u001b[0;34m,\u001b[0m\u001b[0;34m'phase'\u001b[0m\u001b[0;34m,\u001b[0m\u001b[0max\u001b[0m\u001b[0;34m=\u001b[0m\u001b[0mNone\u001b[0m\u001b[0;34m,\u001b[0m \u001b[0mplot_error\u001b[0m\u001b[0;34m=\u001b[0m\u001b[0mFalse\u001b[0m\u001b[0;34m,\u001b[0m \u001b[0;34m**\u001b[0m\u001b[0mcont_args\u001b[0m\u001b[0;34m)\u001b[0m\u001b[0;34m\u001b[0m\u001b[0m\n\u001b[1;32m      3\u001b[0m \u001b[0max\u001b[0m\u001b[0;34m.\u001b[0m\u001b[0mset_yscale\u001b[0m\u001b[0;34m(\u001b[0m\u001b[0;34m'log'\u001b[0m\u001b[0;34m)\u001b[0m\u001b[0;34m\u001b[0m\u001b[0m\n\u001b[1;32m      4\u001b[0m \u001b[0mplt\u001b[0m\u001b[0;34m.\u001b[0m\u001b[0mcolorbar\u001b[0m\u001b[0;34m(\u001b[0m\u001b[0mcont\u001b[0m\u001b[0;34m)\u001b[0m\u001b[0;34m\u001b[0m\u001b[0m\n",
      "\u001b[0;31mNameError\u001b[0m: name 'colors' is not defined"
     ]
    }
   ],
   "source": [
    "cont_args = {'levels':np.logspace(1.5,2.2,8*4+1),'norm':colors.LogNorm()}\n",
    "fig, ax, cont = mtData.section_plot({'y':0.},'Z','yx','phase',ax=None, plot_error=False, **cont_args)\n",
    "ax.set_yscale('log')\n",
    "plt.colorbar(cont)"
   ]
  },
  {
   "cell_type": "code",
   "execution_count": null,
   "metadata": {
    "collapsed": false
   },
   "outputs": [],
   "source": []
  },
  {
   "cell_type": "code",
   "execution_count": null,
   "metadata": {
    "collapsed": true
   },
   "outputs": [],
   "source": []
  }
 ],
 "metadata": {
  "anaconda-cloud": {},
  "kernelspec": {
   "display_name": "Python 2",
   "language": "python",
   "name": "python2"
  },
  "language_info": {
   "codemirror_mode": {
    "name": "ipython",
    "version": 2
   },
   "file_extension": ".py",
   "mimetype": "text/x-python",
   "name": "python",
   "nbconvert_exporter": "python",
   "pygments_lexer": "ipython2",
   "version": "2.7.11"
  }
 },
 "nbformat": 4,
 "nbformat_minor": 2
}
