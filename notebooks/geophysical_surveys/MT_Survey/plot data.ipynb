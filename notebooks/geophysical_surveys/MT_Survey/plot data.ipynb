{
 "cells": [
  {
   "cell_type": "code",
   "execution_count": null,
   "metadata": {
    "collapsed": false
   },
   "outputs": [],
   "source": [
    "import numpy as np\n",
    "import copy\n",
    "from IPython.display import HTML\n",
    "from matplotlib import pyplot as plt, colors\n",
    "import dill\n",
    "\n",
    "import SimPEG as simpeg\n",
    "from SimPEG.EM import NSEM\n",
    "from pymatsolver import PardisoSolver\n",
    "import telluricpy\n",
    "\n",
    "# Set some matplotlib settings\n",
    "%matplotlib inline"
   ]
  },
  {
   "cell_type": "code",
   "execution_count": null,
   "metadata": {
    "collapsed": false
   },
   "outputs": [],
   "source": [
    "mtData = dill.load(open('sphere_mtData.pklb','rb'))"
   ]
  },
  {
   "cell_type": "code",
   "execution_count": null,
   "metadata": {
    "collapsed": true
   },
   "outputs": [],
   "source": [
    "mtData.plot_app_res(np.array([0.,0.]))"
   ]
  },
  {
   "cell_type": "code",
   "execution_count": null,
   "metadata": {
    "collapsed": false
   },
   "outputs": [],
   "source": [
    "cont_kwargs={'levels':np.logspace(2,4,9),'norm':colors.LogNorm()}\n",
    "mtData.map_iso_frequency(1000., 'Z', 'xy', component='app_res',ax=None, plot_error=False, **cont_kwargs)\n",
    "plt.colorbar()"
   ]
  },
  {
   "cell_type": "code",
   "execution_count": null,
   "metadata": {
    "collapsed": false
   },
   "outputs": [],
   "source": [
    "mtData.map_iso_frequency(1000., 'Z', 'xy', component='imag', plot_kwargs={'level':np.arange(-180,-90,2)})\n",
    "plt.colorbar()"
   ]
  },
  {
   "cell_type": "code",
   "execution_count": null,
   "metadata": {
    "collapsed": false
   },
   "outputs": [],
   "source": [
    "cont_args = {'levels':np.logspace(2,3.2,8*4+1),'norm':colors.LogNorm()}\n",
    "fig, ax, cont = mtData.section_plot({'y':0.},'Z','xy','app_res',ax=None, plot_error=False, **cont_args)\n",
    "ax.set_yscale('log')\n",
    "plt.colorbar(cont)"
   ]
  },
  {
   "cell_type": "code",
   "execution_count": null,
   "metadata": {
    "collapsed": false
   },
   "outputs": [],
   "source": [
    "%debug"
   ]
  },
  {
   "cell_type": "code",
   "execution_count": null,
   "metadata": {
    "collapsed": true
   },
   "outputs": [],
   "source": []
  }
 ],
 "metadata": {
  "kernelspec": {
   "display_name": "Python 2",
   "language": "python",
   "name": "python2"
  },
  "language_info": {
   "codemirror_mode": {
    "name": "ipython",
    "version": 2
   },
   "file_extension": ".py",
   "mimetype": "text/x-python",
   "name": "python",
   "nbconvert_exporter": "python",
   "pygments_lexer": "ipython2",
   "version": "2.7.11"
  }
 },
 "nbformat": 4,
 "nbformat_minor": 0
}
