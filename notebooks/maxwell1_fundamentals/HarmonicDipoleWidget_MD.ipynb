{
 "cells": [
  {
   "cell_type": "markdown",
   "metadata": {
    "nbpresent": {
     "id": "e3a4dd9c-3f24-48d6-ad9b-4edbe3248df9"
    }
   },
   "source": [
    "This is the <a href=\"https://jupyter.org/\">Jupyter Notebook</a>, an interactive coding and computation environment. For this lab, you do not have to write any code, you will only be running it. \n",
    "\n",
    "To use the notebook:\n",
    "- \"Shift + Enter\" runs the code within the cell (so does the forward arrow button near the top of the document)\n",
    "- You can alter variables and re-run cells\n",
    "- If you want to start with a clean slate, restart the Kernel either by going to the top, clicking on Kernel: Restart, or by \"esc + 00\" (if you do this, you will need to re-run the following block of code before running any other cells in the notebook) "
   ]
  },
  {
   "cell_type": "code",
   "execution_count": 2,
   "metadata": {
    "collapsed": false,
    "nbpresent": {
     "id": "c59bfd9b-4293-433e-83db-820c33f4c378"
    }
   },
   "outputs": [
    {
     "ename": "ImportError",
     "evalue": "No module named em_examples.DipoleWidgetFD",
     "output_type": "error",
     "traceback": [
      "\u001b[0;31m---------------------------------------------------------------------------\u001b[0m",
      "\u001b[0;31mImportError\u001b[0m                               Traceback (most recent call last)",
      "\u001b[0;32m<ipython-input-2-76bb9cd8c59d>\u001b[0m in \u001b[0;36m<module>\u001b[0;34m()\u001b[0m\n\u001b[1;32m      1\u001b[0m \u001b[0mget_ipython\u001b[0m\u001b[1;33m(\u001b[0m\u001b[1;33m)\u001b[0m\u001b[1;33m.\u001b[0m\u001b[0mmagic\u001b[0m\u001b[1;33m(\u001b[0m\u001b[1;34mu'matplotlib inline'\u001b[0m\u001b[1;33m)\u001b[0m\u001b[1;33m\u001b[0m\u001b[0m\n\u001b[0;32m----> 2\u001b[0;31m \u001b[1;32mfrom\u001b[0m \u001b[0mem_examples\u001b[0m\u001b[1;33m.\u001b[0m\u001b[0mDipoleWidgetFD\u001b[0m \u001b[1;32mimport\u001b[0m \u001b[0mDipoleWidgetFD\u001b[0m\u001b[1;33m,\u001b[0m \u001b[0mInteractiveDipoleProfile\u001b[0m\u001b[1;33m\u001b[0m\u001b[0m\n\u001b[0m\u001b[1;32m      3\u001b[0m \u001b[1;32mfrom\u001b[0m \u001b[0mem_examples\u001b[0m\u001b[1;33m.\u001b[0m\u001b[0mVolumeWidget\u001b[0m \u001b[1;32mimport\u001b[0m \u001b[0mInteractivePlanes\u001b[0m\u001b[1;33m,\u001b[0m \u001b[0mplotObj3D\u001b[0m\u001b[1;33m\u001b[0m\u001b[0m\n",
      "\u001b[0;31mImportError\u001b[0m: No module named em_examples.DipoleWidgetFD"
     ]
    }
   ],
   "source": [
    "%matplotlib inline\n",
    "from em_examples.DipoleWidgetFD import DipoleWidgetFD, InteractiveDipoleProfile\n",
    "from em_examples.VolumeWidget import InteractivePlanes, plotObj3D"
   ]
  },
  {
   "cell_type": "markdown",
   "metadata": {
    "nbpresent": {
     "id": "95f1e819-0749-42ff-ad94-6d428298a5a7"
    }
   },
   "source": [
    "# Magnetic Dipole in a Whole-space (frequency-domain)"
   ]
  },
  {
   "cell_type": "code",
   "execution_count": null,
   "metadata": {
    "collapsed": false,
    "nbpresent": {
     "id": "9cbd4d35-95ab-4b4c-bc7b-ef4c7a5bd601"
    },
    "scrolled": true
   },
   "outputs": [],
   "source": [
    "from IPython.display import HTML\n",
    "# HTML('<iframe width=\"600\" height=\"400\" src=\"https://www.youtube.com/embed/tTQOm096Oq4\" frameborder=\"0\" allowfullscreen></iframe>')"
   ]
  },
  {
   "cell_type": "code",
   "execution_count": null,
   "metadata": {
    "collapsed": false,
    "nbpresent": {
     "id": "c0138e15-c392-4695-9627-578e85ae9c0a"
    }
   },
   "outputs": [],
   "source": [
    "ax = plotObj3D()"
   ]
  },
  {
   "cell_type": "markdown",
   "metadata": {
    "nbpresent": {
     "id": "3bd63ed4-b758-48e5-a662-b68e4b2ce034"
    }
   },
   "source": [
    "## Purpose\n",
    "\n",
    "By using an analytic solution electromagnetic (EM) fields from magnetic dipole in a Whole-space, we present some fundamentals of EM responses in the context of crosswell EM survey. "
   ]
  },
  {
   "cell_type": "markdown",
   "metadata": {
    "nbpresent": {
     "id": "09257b6f-48e9-426c-a0f3-d1a60beb3ad0"
    }
   },
   "source": [
    "## Backgrounds \n",
    "\n",
    "XXX"
   ]
  },
  {
   "cell_type": "markdown",
   "metadata": {
    "nbpresent": {
     "id": "b9b7af2b-084a-4f24-9c1f-6c681e30fd35"
    }
   },
   "source": [
    "##  Crosswell EM set-up\n",
    "Here, we choose geometric parameters for a crosswell EM set-up having two boreholes for Tx and Rx. In the Tx hole, a VMD source is located at (0m, 0m, 0m), and it is fixed. Horizontal location of the Rx hole is fixed to 50m apart from the source location in x-direction.  "
   ]
  },
  {
   "cell_type": "markdown",
   "metadata": {
    "nbpresent": {
     "id": "53198a70-4798-4da9-8ce3-43a14b3086f2"
    }
   },
   "source": [
    "### Step1: Choose geometric parameters\n",
    "\n",
    "- plane: Choose either \"XZ\" or \"YZ\" plane\n",
    "- offset: Offset from a source plane (m)\n",
    "- nRx: The number of receivers in the Rx hole\n",
    "\n",
    "Chosen geometric parameters will be used in the Magnetic Dipole widget below. "
   ]
  },
  {
   "cell_type": "code",
   "execution_count": null,
   "metadata": {
    "collapsed": false,
    "nbpresent": {
     "id": "baf63d98-9356-4c2d-81d7-8f8cd1a6da2d"
    }
   },
   "outputs": [],
   "source": [
    "Q0 = InteractivePlanes(); Q0"
   ]
  },
  {
   "cell_type": "markdown",
   "metadata": {
    "nbpresent": {
     "id": "100a2463-b8e6-4c4c-9cfc-5ea61334779e"
    }
   },
   "source": [
    "## Magnetic Dipole widget"
   ]
  },
  {
   "cell_type": "markdown",
   "metadata": {
    "nbpresent": {
     "id": "4cca45b8-6d74-43f2-b3aa-2f1f3ece54f3"
    }
   },
   "source": [
    "### Step2: Explore behavior of EM fields, $\\mathbf{F} (x, y, z; \\sigma, f)$\n",
    "\n",
    "- Field: Type of EM fields (\"E\": electric field, \"H\": magnetic field, \"J\": current density)\n",
    "- AmpDir: Type of the vectoral EM fields \n",
    "\n",
    "    None: $F_x$ or $F_y$ or $F_z$\n",
    "    \n",
    "    Amp: $\\mathbf{F} \\cdot \\mathbf{F}^* = |\\mathbf{F}|^2$\n",
    "    \n",
    "    Dir: Real part of a vectoral EM fields, $\\Re[\\mathbf{F}]$\n",
    "    \n",
    "- Comp.: Direction of $\\mathbf{F}$ at Rx locations        \n",
    "- ComplexNumber: Type of complex data (\"Re\", \"Im\", \"Amp\", \"Phase\")    \n",
    "- $f$: Transmitting frequency (Hz)\n",
    "- $\\sigma$: Conductivity of homogeneous earth (S/m)\n",
    "- Offset: Offset from a source plane\n",
    "- Scale: Choose \"log\" or \"linear\" scale \n",
    "- Slider: When it is checked, it activates \"flog\" and \"siglog\" sliders above. \n",
    "- FreqLog: A float slider for log10 frequency (only activated when slider is checked) \n",
    "- SigLog: A float slider for log10 conductivity (only activated when slider is checked)\n"
   ]
  },
  {
   "cell_type": "code",
   "execution_count": 3,
   "metadata": {
    "collapsed": false,
    "nbpresent": {
     "id": "d4efa881-fa5c-4ecc-87b0-47f53e865a5f"
    }
   },
   "outputs": [
    {
     "ename": "NameError",
     "evalue": "name 'DipoleWidgetFD' is not defined",
     "output_type": "error",
     "traceback": [
      "\u001b[0;31m---------------------------------------------------------------------------\u001b[0m",
      "\u001b[0;31mNameError\u001b[0m                                 Traceback (most recent call last)",
      "\u001b[0;32m<ipython-input-3-40cf0ec70749>\u001b[0m in \u001b[0;36m<module>\u001b[0;34m()\u001b[0m\n\u001b[0;32m----> 1\u001b[0;31m \u001b[0mdwidget\u001b[0m \u001b[1;33m=\u001b[0m \u001b[0mDipoleWidgetFD\u001b[0m\u001b[1;33m(\u001b[0m\u001b[1;33m)\u001b[0m\u001b[1;33m\u001b[0m\u001b[0m\n\u001b[0m\u001b[1;32m      2\u001b[0m \u001b[0mQ1\u001b[0m \u001b[1;33m=\u001b[0m \u001b[0mdwidget\u001b[0m\u001b[1;33m.\u001b[0m\u001b[0mInteractiveDipoleBH\u001b[0m\u001b[1;33m(\u001b[0m\u001b[0mnRx\u001b[0m\u001b[1;33m=\u001b[0m\u001b[0mQ0\u001b[0m\u001b[1;33m.\u001b[0m\u001b[0mkwargs\u001b[0m\u001b[1;33m[\u001b[0m\u001b[1;34m\"nRx\"\u001b[0m\u001b[1;33m]\u001b[0m\u001b[1;33m,\u001b[0m \u001b[0mplane\u001b[0m\u001b[1;33m=\u001b[0m\u001b[0mQ0\u001b[0m\u001b[1;33m.\u001b[0m\u001b[0mkwargs\u001b[0m\u001b[1;33m[\u001b[0m\u001b[1;34m\"Plane\"\u001b[0m\u001b[1;33m]\u001b[0m\u001b[1;33m,\u001b[0m \u001b[0moffset_plane\u001b[0m\u001b[1;33m=\u001b[0m\u001b[0mQ0\u001b[0m\u001b[1;33m.\u001b[0m\u001b[0mkwargs\u001b[0m\u001b[1;33m[\u001b[0m\u001b[1;34m\"Offset\"\u001b[0m\u001b[1;33m]\u001b[0m\u001b[1;33m,\u001b[0m \u001b[0mSrcType\u001b[0m\u001b[1;33m=\u001b[0m\u001b[1;34m\"MD\"\u001b[0m\u001b[1;33m,\u001b[0m\u001b[0mfieldvalue\u001b[0m\u001b[1;33m=\u001b[0m\u001b[1;34m\"H\"\u001b[0m\u001b[1;33m,\u001b[0m\u001b[0mcompvalue\u001b[0m\u001b[1;33m=\u001b[0m\u001b[1;34m\"z\"\u001b[0m\u001b[1;33m)\u001b[0m\u001b[1;33m;\u001b[0m \u001b[0mQ1\u001b[0m\u001b[1;33m\u001b[0m\u001b[0m\n",
      "\u001b[0;31mNameError\u001b[0m: name 'DipoleWidgetFD' is not defined"
     ]
    }
   ],
   "source": [
    "dwidget = DipoleWidgetFD()\n",
    "Q1 = dwidget.InteractiveDipoleBH(nRx=Q0.kwargs[\"nRx\"], plane=Q0.kwargs[\"Plane\"], offset_plane=Q0.kwargs[\"Offset\"], SrcType=\"MD\",fieldvalue=\"H\",compvalue=\"z\"); Q1"
   ]
  },
  {
   "cell_type": "markdown",
   "metadata": {},
   "source": [
    "## Proflie Widget"
   ]
  },
  {
   "cell_type": "code",
   "execution_count": 6,
   "metadata": {
    "collapsed": false
   },
   "outputs": [
    {
     "data": {
      "image/png": "[encoded data removed]",
      "text/plain": [
       "<matplotlib.figure.Figure at 0x10d798690>"
      ]
     },
     "metadata": {},
     "output_type": "display_data"
    }
   ],
   "source": [
    "Q2 = InteractiveDipoleProfile(dwidget, Q1.kwargs[\"Sigma\"], Q1.kwargs[\"Field\"], Q1.kwargs[\"Scale\"]); Q2"
   ]
  },
  {
   "cell_type": "markdown",
   "metadata": {},
   "source": [
    "## 1D Visualisation"
   ]
  },
  {
   "cell_type": "code",
   "execution_count": 7,
   "metadata": {
    "collapsed": false,
    "scrolled": true
   },
   "outputs": [],
   "source": [
    "# dwidget1D = DipoleWidget1D();\n",
    "# Q3 = dwidget1D.InteractiveDipole1D();Q3"
   ]
  },
  {
   "cell_type": "code",
   "execution_count": null,
   "metadata": {
    "collapsed": true
   },
   "outputs": [],
   "source": []
  }
 ],
 "metadata": {
  "anaconda-cloud": {},
  "kernelspec": {
   "display_name": "Python [default]",
   "language": "python",
   "name": "python2"
  },
  "language_info": {
   "codemirror_mode": {
    "name": "ipython",
    "version": 2
   },
   "file_extension": ".py",
   "mimetype": "text/x-python",
   "name": "python",
   "nbconvert_exporter": "python",
   "pygments_lexer": "ipython2",
   "version": "2.7.12"
  },
  "nbpresent": {
   "slides": {
    "18cc87f9-a29c-43fe-a307-094e80f187ec": {
     "id": "18cc87f9-a29c-43fe-a307-094e80f187ec",
     "prev": "47ebf514-9d62-497c-ae0e-da3d22b7a793",
     "regions": {
      "81dc0ef7-16af-48ca-9707-b6626f7b5ef3": {
       "attrs": {
        "height": 0.8,
        "width": 0.8,
        "x": 0.1,
        "y": 0.1
       },
       "content": {
        "cell": "c59bfd9b-4293-433e-83db-820c33f4c378",
        "part": "whole"
       },
       "id": "81dc0ef7-16af-48ca-9707-b6626f7b5ef3"
      }
     }
    },
    "245f2cbf-072e-429f-b8c2-3a155572cae5": {
     "id": "245f2cbf-072e-429f-b8c2-3a155572cae5",
     "prev": "d4aec013-fcfb-4601-928a-08cb129f1ab6",
     "regions": {
      "f58b4744-dda4-46e7-a2b6-132966aebb6c": {
       "attrs": {
        "height": 0.8,
        "width": 0.8,
        "x": 0.1,
        "y": 0.1
       },
       "content": {
        "cell": "9cbd4d35-95ab-4b4c-bc7b-ef4c7a5bd601",
        "part": "whole"
       },
       "id": "f58b4744-dda4-46e7-a2b6-132966aebb6c"
      }
     }
    },
    "47ebf514-9d62-497c-ae0e-da3d22b7a793": {
     "id": "47ebf514-9d62-497c-ae0e-da3d22b7a793",
     "prev": null,
     "regions": {
      "201b2767-c7c4-42a9-8972-0fb07ea027df": {
       "attrs": {
        "height": 0.7999999999999999,
        "width": 0.8,
        "x": -0.02479871175523355,
        "y": 0.1261227410985866
       },
       "content": {
        "cell": "e3a4dd9c-3f24-48d6-ad9b-4edbe3248df9",
        "part": "whole"
       },
       "id": "201b2767-c7c4-42a9-8972-0fb07ea027df"
      }
     }
    },
    "4cff681d-a824-462c-82c4-6c9dab0650f1": {
     "id": "4cff681d-a824-462c-82c4-6c9dab0650f1",
     "prev": "a0099cd8-0e6d-497b-8eee-1c9a9352e2a3",
     "regions": {
      "402b6864-2649-41f1-9713-ae5f6bf3b115": {
       "attrs": {
        "height": 0.8,
        "width": 0.8,
        "x": 0.1,
        "y": 0.1
       },
       "content": {
        "cell": "3bd63ed4-b758-48e5-a662-b68e4b2ce034",
        "part": "whole"
       },
       "id": "402b6864-2649-41f1-9713-ae5f6bf3b115"
      }
     }
    },
    "51a59c43-c682-499d-b8a9-bf6c793cbe75": {
     "id": "51a59c43-c682-499d-b8a9-bf6c793cbe75",
     "prev": "b2754f55-e10b-4a02-b5e1-618bc5d423f0",
     "regions": {
      "15926dd2-ff48-4df3-a8be-e4b86ea2cd4f": {
       "attrs": {
        "height": 0.8,
        "width": 0.8,
        "x": 0.1,
        "y": 0.1
       },
       "content": {
        "cell": "baf63d98-9356-4c2d-81d7-8f8cd1a6da2d",
        "part": "whole"
       },
       "id": "15926dd2-ff48-4df3-a8be-e4b86ea2cd4f"
      }
     }
    },
    "5dd85aee-5025-4fe2-a90c-d80de7f8d456": {
     "id": "5dd85aee-5025-4fe2-a90c-d80de7f8d456",
     "prev": "bf7c1942-c97d-4023-8cc8-62a6369c6229",
     "regions": {
      "a022dc82-caf9-430a-8e77-7a155085aee5": {
       "attrs": {
        "height": 0.8,
        "width": 0.8,
        "x": 0.1,
        "y": 0.1
       },
       "content": {
        "cell": "d4efa881-fa5c-4ecc-87b0-47f53e865a5f",
        "part": "whole"
       },
       "id": "a022dc82-caf9-430a-8e77-7a155085aee5"
      }
     }
    },
    "7dad038d-3585-4d4a-acb4-d2388b117b7e": {
     "id": "7dad038d-3585-4d4a-acb4-d2388b117b7e",
     "prev": "5dd85aee-5025-4fe2-a90c-d80de7f8d456",
     "regions": {
      "e526da6b-003d-4015-8900-386d21051974": {
       "attrs": {
        "height": 0.8,
        "width": 0.8,
        "x": 0.1,
        "y": 0.1
       },
       "content": {
        "cell": "c3075a3b-0158-49f6-9d38-ed7372a4761c",
        "part": "whole"
       },
       "id": "e526da6b-003d-4015-8900-386d21051974"
      }
     }
    },
    "81c72ec7-c7a8-45e6-9649-080db72a3bf9": {
     "id": "81c72ec7-c7a8-45e6-9649-080db72a3bf9",
     "prev": "4cff681d-a824-462c-82c4-6c9dab0650f1",
     "regions": {
      "98e755fa-d098-4ebf-9481-63e3fed6a783": {
       "attrs": {
        "height": 0.8,
        "width": 0.8,
        "x": 0.1,
        "y": 0.1
       },
       "content": {
        "cell": "09257b6f-48e9-426c-a0f3-d1a60beb3ad0",
        "part": "whole"
       },
       "id": "98e755fa-d098-4ebf-9481-63e3fed6a783"
      }
     }
    },
    "8a528caa-079f-4215-b8b8-28302cc93a3e": {
     "id": "8a528caa-079f-4215-b8b8-28302cc93a3e",
     "prev": "7dad038d-3585-4d4a-acb4-d2388b117b7e",
     "regions": {
      "8304fb51-067b-42fd-b53a-e3a1d9e04272": {
       "attrs": {
        "height": 0.8,
        "width": 0.8,
        "x": 0.1,
        "y": 0.1
       },
       "content": {
        "cell": "0053bec8-5b59-4ae4-b760-37bdf85ed0d8",
        "part": "whole"
       },
       "id": "8304fb51-067b-42fd-b53a-e3a1d9e04272"
      }
     }
    },
    "a0099cd8-0e6d-497b-8eee-1c9a9352e2a3": {
     "id": "a0099cd8-0e6d-497b-8eee-1c9a9352e2a3",
     "prev": "245f2cbf-072e-429f-b8c2-3a155572cae5",
     "regions": {
      "11eb3f79-3a55-4a7b-a77f-7a29de426686": {
       "attrs": {
        "height": 0.8,
        "width": 0.8,
        "x": 0.1,
        "y": 0.1
       },
       "content": {
        "cell": "c0138e15-c392-4695-9627-578e85ae9c0a",
        "part": "whole"
       },
       "id": "11eb3f79-3a55-4a7b-a77f-7a29de426686"
      }
     }
    },
    "a3506cf3-dd45-4e72-86bb-af1f5dc15b15": {
     "id": "a3506cf3-dd45-4e72-86bb-af1f5dc15b15",
     "prev": "8a528caa-079f-4215-b8b8-28302cc93a3e",
     "regions": {
      "c31fa94d-0be2-484b-8fc7-21f845ecd9e7": {
       "attrs": {
        "height": 0.8,
        "width": 0.8,
        "x": 0.1,
        "y": 0.1
       },
       "content": {
        "cell": "3eafb99a-a449-44ad-92ca-c5759984f87c",
        "part": "whole"
       },
       "id": "c31fa94d-0be2-484b-8fc7-21f845ecd9e7"
      }
     }
    },
    "b2754f55-e10b-4a02-b5e1-618bc5d423f0": {
     "id": "b2754f55-e10b-4a02-b5e1-618bc5d423f0",
     "prev": "c1556db0-f27c-4a07-a6ee-218b6da5228f",
     "regions": {
      "6ce0b2c5-9f8e-414c-b578-d1fb9537a350": {
       "attrs": {
        "height": 0.8,
        "width": 0.8,
        "x": 0.1,
        "y": 0.1
       },
       "content": {
        "cell": "53198a70-4798-4da9-8ce3-43a14b3086f2",
        "part": "whole"
       },
       "id": "6ce0b2c5-9f8e-414c-b578-d1fb9537a350"
      }
     }
    },
    "bf7c1942-c97d-4023-8cc8-62a6369c6229": {
     "id": "bf7c1942-c97d-4023-8cc8-62a6369c6229",
     "prev": "f2016771-0d1f-4b36-a992-3ed37d96db8d",
     "regions": {
      "d2c780fd-f02d-4b23-855d-7268418a9a6b": {
       "attrs": {
        "height": 0.8,
        "width": 0.8,
        "x": 0.1,
        "y": 0.1
       },
       "content": {
        "cell": "4cca45b8-6d74-43f2-b3aa-2f1f3ece54f3",
        "part": "whole"
       },
       "id": "d2c780fd-f02d-4b23-855d-7268418a9a6b"
      }
     }
    },
    "c1556db0-f27c-4a07-a6ee-218b6da5228f": {
     "id": "c1556db0-f27c-4a07-a6ee-218b6da5228f",
     "prev": "81c72ec7-c7a8-45e6-9649-080db72a3bf9",
     "regions": {
      "e8e03a1b-fce6-4369-b5e0-6f4c0d98fd48": {
       "attrs": {
        "height": 0.8,
        "width": 0.8,
        "x": 0.1,
        "y": 0.1
       },
       "content": {
        "cell": "b9b7af2b-084a-4f24-9c1f-6c681e30fd35",
        "part": "whole"
       },
       "id": "e8e03a1b-fce6-4369-b5e0-6f4c0d98fd48"
      }
     }
    },
    "d4aec013-fcfb-4601-928a-08cb129f1ab6": {
     "id": "d4aec013-fcfb-4601-928a-08cb129f1ab6",
     "prev": "18cc87f9-a29c-43fe-a307-094e80f187ec",
     "regions": {
      "959cec78-5304-4c08-be1c-372309852edb": {
       "attrs": {
        "height": 0.8,
        "width": 0.8,
        "x": 0.1,
        "y": 0.1
       },
       "content": {
        "cell": "95f1e819-0749-42ff-ad94-6d428298a5a7",
        "part": "whole"
       },
       "id": "959cec78-5304-4c08-be1c-372309852edb"
      }
     }
    },
    "f2016771-0d1f-4b36-a992-3ed37d96db8d": {
     "id": "f2016771-0d1f-4b36-a992-3ed37d96db8d",
     "prev": "51a59c43-c682-499d-b8a9-bf6c793cbe75",
     "regions": {
      "f238a22f-46b8-43ff-b102-98cb6289f575": {
       "attrs": {
        "height": 0.8,
        "width": 0.8,
        "x": 0.1,
        "y": 0.1
       },
       "content": {
        "cell": "100a2463-b8e6-4c4c-9cfc-5ea61334779e",
        "part": "whole"
       },
       "id": "f238a22f-46b8-43ff-b102-98cb6289f575"
      }
     }
    }
   },
   "themes": {}
  }
 },
 "nbformat": 4,
 "nbformat_minor": 0
}
